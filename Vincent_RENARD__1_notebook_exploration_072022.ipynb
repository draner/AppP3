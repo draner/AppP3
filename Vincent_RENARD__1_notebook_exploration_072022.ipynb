{
  "nbformat": 4,
  "nbformat_minor": 0,
  "metadata": {
    "colab": {
      "name": "Vincent_RENARD__1_notebook_exploration_072022.ipynb",
      "provenance": [],
      "mount_file_id": "1ZjfClXoWnX1fzXsV4olXpJMjTdN0yNJt",
      "authorship_tag": "ABX9TyMkBXpjjGT961P4iaGsebPm",
      "include_colab_link": true
    },
    "kernelspec": {
      "name": "python3",
      "display_name": "Python 3"
    },
    "language_info": {
      "name": "python"
    }
  },
  "cells": [
    {
      "cell_type": "markdown",
      "metadata": {
        "id": "view-in-github",
        "colab_type": "text"
      },
      "source": [
        "<a href=\"https://colab.research.google.com/github/draner/AppP3/blob/main/Vincent_RENARD__1_notebook_exploration_072022.ipynb\" target=\"_parent\"><img src=\"https://colab.research.google.com/assets/colab-badge.svg\" alt=\"Open In Colab\"/></a>"
      ]
    },
    {
      "cell_type": "code",
      "execution_count": 1,
      "metadata": {
        "id": "e9vIHsvlk_j1"
      },
      "outputs": [],
      "source": [
        "import numpy as np\n",
        "import pandas as pd\n",
        "from scipy import stats \n",
        "import os\n",
        "import matplotlib.pyplot as plt\n",
        "import seaborn as sns"
      ]
    },
    {
      "cell_type": "code",
      "source": [
        "df_item = pd.read_csv(\"/content/drive/MyDrive/Ingenieur_IA/P05/data/olist_order_items_dataset.csv\")\n",
        "df_reviews = pd.read_csv(\"/content/drive/MyDrive/Ingenieur_IA/P05/data/olist_order_reviews_dataset.csv\")\n",
        "df_orders = pd.read_csv(\"/content/drive/MyDrive/Ingenieur_IA/P05/data/olist_orders_dataset.csv\")\n",
        "df_products = pd.read_csv(\"/content/drive/MyDrive/Ingenieur_IA/P05/data/olist_products_dataset.csv\")\n",
        "df_geolocation = pd.read_csv(\"/content/drive/MyDrive/Ingenieur_IA/P05/data/olist_geolocation_dataset.csv\")\n",
        "df_sellers = pd.read_csv(\"/content/drive/MyDrive/Ingenieur_IA/P05/data/olist_sellers_dataset.csv\")\n",
        "df_order_pay = pd.read_csv(\"/content/drive/MyDrive/Ingenieur_IA/P05/data/olist_order_payments_dataset.csv\")\n",
        "df_customers = pd.read_csv(\"/content/drive/MyDrive/Ingenieur_IA/P05/data/olist_customers_dataset.csv\")\n",
        "df_category = pd.read_csv(\"/content/drive/MyDrive/Ingenieur_IA/P05/data/product_category_name_translation.csv\")"
      ],
      "metadata": {
        "id": "O63K9X4om-XF"
      },
      "execution_count": 2,
      "outputs": []
    },
    {
      "cell_type": "code",
      "source": [
        "df_train = df_orders.merge(df_item, on='order_id', how='left')\n",
        "df_train = df_train.merge(df_order_pay, on='order_id', how='outer', validate='m:m')\n",
        "df_train = df_train.merge(df_reviews, on='order_id', how='outer')\n",
        "df_train = df_train.merge(df_products, on='product_id', how='outer')\n",
        "df_train = df_train.merge(df_customers, on='customer_id', how='outer')\n",
        "df_train = df_train.merge(df_sellers, on='seller_id', how='outer')\n",
        "\n",
        "print(df_train.shape)"
      ],
      "metadata": {
        "colab": {
          "base_uri": "https://localhost:8080/"
        },
        "id": "jlPvcVy2nktG",
        "outputId": "ec74b28b-aa1c-4c86-82e8-cf2f43ffd007"
      },
      "execution_count": 8,
      "outputs": [
        {
          "output_type": "stream",
          "name": "stdout",
          "text": [
            "(119143, 39)\n"
          ]
        }
      ]
    }
  ]
}